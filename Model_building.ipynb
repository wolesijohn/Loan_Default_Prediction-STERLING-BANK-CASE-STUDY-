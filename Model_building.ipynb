{
  "cells": [
    {
      "cell_type": "code",
      "execution_count": 80,
      "metadata": {},
      "outputs": [],
      "source": [
        "from sklearn.model_selection import train_test_split\n",
        "from sklearn.preprocessing import StandardScaler\n",
        "from sklearn.ensemble import RandomForestClassifier, GradientBoostingClassifier\n",
        "from sklearn.linear_model import LogisticRegression\n",
        "from sklearn.svm import SVC\n",
        "\n",
        "\n",
        "from sklearn.model_selection import GridSearchCV,train_test_split, cross_val_score, cross_validate, StratifiedKFold\n",
        "import xgboost as xgb\n",
        "import pandas as pd\n",
        "import numpy as np\n",
        "\n",
        "from sklearn.ensemble import RandomForestClassifier, GradientBoostingClassifier\n",
        "from sklearn.metrics import roc_curve, auc,confusion_matrix, RocCurveDisplay,accuracy_score, roc_auc_score, precision_score, recall_score, f1_score, classification_report\n",
        "import matplotlib.pyplot as plt\n",
        "import seaborn as sns\n"
      ]
    },
    {
      "cell_type": "code",
      "execution_count": 10,
      "metadata": {},
      "outputs": [
        {
          "name": "stdout",
          "output_type": "stream",
          "text": [
            "<class 'pandas.core.frame.DataFrame'>\n",
            "RangeIndex: 827 entries, 0 to 826\n",
            "Data columns (total 11 columns):\n",
            " #   Column                       Non-Null Count  Dtype  \n",
            "---  ------                       --------------  -----  \n",
            " 0   DAYS_TO_MATURITY             827 non-null    float64\n",
            " 1   previous_loan_default_count  827 non-null    float64\n",
            " 2   Is_Active_loans_Inactive     827 non-null    float64\n",
            " 3   ARR_STATUS_CURRENT           827 non-null    float64\n",
            " 4   DAY_SINCEPAYMENT             827 non-null    float64\n",
            " 5   CURR_BAL                     827 non-null    float64\n",
            " 6   DAYS_RUNNING_SINCE           827 non-null    float64\n",
            " 7   previous_loans_count         827 non-null    float64\n",
            " 8   INTEREST_RATE                827 non-null    float64\n",
            " 9   sector_GENERAL               827 non-null    float64\n",
            " 10  Default_status               827 non-null    int64  \n",
            "dtypes: float64(10), int64(1)\n",
            "memory usage: 71.2 KB\n",
            "None\n",
            "       DAYS_TO_MATURITY  previous_loan_default_count  \\\n",
            "count      8.270000e+02                 8.270000e+02   \n",
            "mean      -1.718362e-17                 8.591811e-18   \n",
            "std        1.000605e+00                 1.000605e+00   \n",
            "min       -5.679764e+00                -7.213603e-01   \n",
            "25%       -2.792937e-02                -7.213603e-01   \n",
            "50%        3.474326e-02                -2.921769e-01   \n",
            "75%        1.582299e-01                 1.370066e-01   \n",
            "max        9.750453e+00                 5.716391e+00   \n",
            "\n",
            "       Is_Active_loans_Inactive  ARR_STATUS_CURRENT  DAY_SINCEPAYMENT  \\\n",
            "count                827.000000          827.000000      8.270000e+02   \n",
            "mean                   0.701330            0.263603      1.073976e-17   \n",
            "std                    0.457952            0.440853      1.000605e+00   \n",
            "min                    0.000000            0.000000     -9.898111e+00   \n",
            "25%                    0.000000            0.000000     -5.331635e-01   \n",
            "50%                    1.000000            0.000000     -1.798099e-01   \n",
            "75%                    1.000000            1.000000      4.925688e-01   \n",
            "max                    1.000000            1.000000      3.011061e+00   \n",
            "\n",
            "           CURR_BAL  DAYS_RUNNING_SINCE  previous_loans_count  INTEREST_RATE  \\\n",
            "count  8.270000e+02        8.270000e+02          8.270000e+02   8.270000e+02   \n",
            "mean  -7.732630e-17        2.577543e-17         -2.577543e-17  -1.976116e-16   \n",
            "std    1.000605e+00        1.000605e+00          1.000605e+00   1.000605e+00   \n",
            "min   -4.014971e+00       -7.872786e-01         -8.333718e-01  -1.762218e+00   \n",
            "25%   -4.714244e-01       -6.091037e-01         -5.982307e-01  -8.579620e-01   \n",
            "50%    6.220681e-02       -4.268794e-01         -3.630897e-01   4.629407e-02   \n",
            "75%    6.250923e-01        2.493753e-01          1.071925e-01   9.003137e-01   \n",
            "max    2.484074e+00        4.628833e+00          7.161425e+00   2.859535e+00   \n",
            "\n",
            "       sector_GENERAL  Default_status  \n",
            "count      827.000000      827.000000  \n",
            "mean         0.101572        0.426844  \n",
            "std          0.302267        0.494919  \n",
            "min          0.000000        0.000000  \n",
            "25%          0.000000        0.000000  \n",
            "50%          0.000000        0.000000  \n",
            "75%          0.000000        1.000000  \n",
            "max          1.000000        1.000000  \n",
            "Default_status\n",
            "0    474\n",
            "1    353\n",
            "Name: count, dtype: int64\n"
          ]
        }
      ],
      "source": [
        "# Load the data\n",
        "df = pd.read_csv('Loan_Data/model_selected_data.csv')\n",
        "\n",
        "# Initial exploration\n",
        "print(df.info())\n",
        "print(df.describe())\n",
        "print(df['Default_status'].value_counts())"
      ]
    },
    {
      "cell_type": "code",
      "execution_count": 30,
      "metadata": {},
      "outputs": [],
      "source": [
        "# Separate features and target\n",
        "X = df.copy().drop('Default_status', axis=1)\n",
        "y=df.copy()['Default_status']"
      ]
    },
    {
      "cell_type": "code",
      "execution_count": 68,
      "metadata": {},
      "outputs": [
        {
          "name": "stdout",
          "output_type": "stream",
          "text": [
            "<class 'pandas.core.frame.DataFrame'>\n",
            "RangeIndex: 827 entries, 0 to 826\n",
            "Data columns (total 10 columns):\n",
            " #   Column                       Non-Null Count  Dtype  \n",
            "---  ------                       --------------  -----  \n",
            " 0   DAYS_TO_MATURITY             827 non-null    float64\n",
            " 1   previous_loan_default_count  827 non-null    float64\n",
            " 2   Is_Active_loans_Inactive     827 non-null    float64\n",
            " 3   ARR_STATUS_CURRENT           827 non-null    float64\n",
            " 4   DAY_SINCEPAYMENT             827 non-null    float64\n",
            " 5   CURR_BAL                     827 non-null    float64\n",
            " 6   DAYS_RUNNING_SINCE           827 non-null    float64\n",
            " 7   previous_loans_count         827 non-null    float64\n",
            " 8   INTEREST_RATE                827 non-null    float64\n",
            " 9   sector_GENERAL               827 non-null    float64\n",
            "dtypes: float64(10)\n",
            "memory usage: 64.7 KB\n"
          ]
        }
      ],
      "source": [
        "X.info()"
      ]
    },
    {
      "cell_type": "code",
      "execution_count": 42,
      "metadata": {},
      "outputs": [
        {
          "name": "stdout",
          "output_type": "stream",
          "text": [
            "Class distribution: Default_status\n",
            "0    0.573156\n",
            "1    0.426844\n",
            "Name: proportion, dtype: float64\n"
          ]
        }
      ],
      "source": [
        "# Check class imbalance\n",
        "print(f\"Class distribution: {y.value_counts(normalize=True)}\")\n"
      ]
    },
    {
      "cell_type": "code",
      "execution_count": 33,
      "metadata": {},
      "outputs": [
        {
          "name": "stdout",
          "output_type": "stream",
          "text": [
            "<class 'pandas.core.frame.DataFrame'>\n",
            "RangeIndex: 827 entries, 0 to 826\n",
            "Data columns (total 10 columns):\n",
            " #   Column                       Non-Null Count  Dtype  \n",
            "---  ------                       --------------  -----  \n",
            " 0   DAYS_TO_MATURITY             827 non-null    float64\n",
            " 1   previous_loan_default_count  827 non-null    float64\n",
            " 2   Is_Active_loans_Inactive     827 non-null    float64\n",
            " 3   ARR_STATUS_CURRENT           827 non-null    float64\n",
            " 4   DAY_SINCEPAYMENT             827 non-null    float64\n",
            " 5   CURR_BAL                     827 non-null    float64\n",
            " 6   DAYS_RUNNING_SINCE           827 non-null    float64\n",
            " 7   previous_loans_count         827 non-null    float64\n",
            " 8   INTEREST_RATE                827 non-null    float64\n",
            " 9   sector_GENERAL               827 non-null    float64\n",
            "dtypes: float64(10)\n",
            "memory usage: 64.7 KB\n"
          ]
        }
      ],
      "source": [
        "X.info()"
      ]
    },
    {
      "cell_type": "code",
      "execution_count": 62,
      "metadata": {},
      "outputs": [
        {
          "name": "stdout",
          "output_type": "stream",
          "text": [
            "\n",
            "Logistic Regression Cross-Validation Results (on Train Set):\n",
            "CV Accuracy: Mean = 0.8962, Std = 0.0145\n",
            "CV ROC AUC: Mean = 0.9704, Std = 0.0082\n",
            "CV Precision: Mean = 0.8810\n",
            "CV Recall: Mean = 0.8783\n",
            "CV F1-Score: Mean = 0.8784\n",
            "\n",
            "Random Forest Cross-Validation Results (on Train Set):\n",
            "CV Accuracy: Mean = 1.0000, Std = 0.0000\n",
            "CV ROC AUC: Mean = 1.0000, Std = 0.0000\n",
            "CV Precision: Mean = 1.0000\n",
            "CV Recall: Mean = 1.0000\n",
            "CV F1-Score: Mean = 1.0000\n",
            "\n",
            "Gradient Boosting Cross-Validation Results (on Train Set):\n",
            "CV Accuracy: Mean = 1.0000, Std = 0.0000\n",
            "CV ROC AUC: Mean = 1.0000, Std = 0.0000\n",
            "CV Precision: Mean = 1.0000\n",
            "CV Recall: Mean = 1.0000\n",
            "CV F1-Score: Mean = 1.0000\n",
            "\n",
            "XGBoost Cross-Validation Results (on Train Set):\n",
            "CV Accuracy: Mean = 1.0000, Std = 0.0000\n"
          ]
        },
        {
          "name": "stderr",
          "output_type": "stream",
          "text": [
            "/usr/local/python/3.12.1/lib/python3.12/site-packages/xgboost/training.py:183: UserWarning: [17:24:58] WARNING: /workspace/src/learner.cc:738: \n",
            "Parameters: { \"use_label_encoder\" } are not used.\n",
            "\n",
            "  bst.update(dtrain, iteration=i, fobj=obj)\n",
            "/usr/local/python/3.12.1/lib/python3.12/site-packages/xgboost/training.py:183: UserWarning: [17:24:58] WARNING: /workspace/src/learner.cc:738: \n",
            "Parameters: { \"use_label_encoder\" } are not used.\n",
            "\n",
            "  bst.update(dtrain, iteration=i, fobj=obj)\n",
            "/usr/local/python/3.12.1/lib/python3.12/site-packages/xgboost/training.py:183: UserWarning: [17:24:58] WARNING: /workspace/src/learner.cc:738: \n",
            "Parameters: { \"use_label_encoder\" } are not used.\n",
            "\n",
            "  bst.update(dtrain, iteration=i, fobj=obj)\n",
            "/usr/local/python/3.12.1/lib/python3.12/site-packages/xgboost/training.py:183: UserWarning: [17:24:58] WARNING: /workspace/src/learner.cc:738: \n",
            "Parameters: { \"use_label_encoder\" } are not used.\n",
            "\n",
            "  bst.update(dtrain, iteration=i, fobj=obj)\n",
            "/usr/local/python/3.12.1/lib/python3.12/site-packages/xgboost/training.py:183: UserWarning: [17:24:58] WARNING: /workspace/src/learner.cc:738: \n",
            "Parameters: { \"use_label_encoder\" } are not used.\n",
            "\n",
            "  bst.update(dtrain, iteration=i, fobj=obj)\n",
            "/usr/local/python/3.12.1/lib/python3.12/site-packages/xgboost/training.py:183: UserWarning: [17:24:58] WARNING: /workspace/src/learner.cc:738: \n",
            "Parameters: { \"use_label_encoder\" } are not used.\n",
            "\n",
            "  bst.update(dtrain, iteration=i, fobj=obj)\n",
            "/usr/local/python/3.12.1/lib/python3.12/site-packages/xgboost/training.py:183: UserWarning: [17:24:58] WARNING: /workspace/src/learner.cc:738: \n",
            "Parameters: { \"use_label_encoder\" } are not used.\n",
            "\n",
            "  bst.update(dtrain, iteration=i, fobj=obj)\n",
            "/usr/local/python/3.12.1/lib/python3.12/site-packages/xgboost/training.py:183: UserWarning: [17:24:58] WARNING: /workspace/src/learner.cc:738: \n",
            "Parameters: { \"use_label_encoder\" } are not used.\n",
            "\n",
            "  bst.update(dtrain, iteration=i, fobj=obj)\n",
            "/usr/local/python/3.12.1/lib/python3.12/site-packages/xgboost/training.py:183: UserWarning: [17:24:58] WARNING: /workspace/src/learner.cc:738: \n",
            "Parameters: { \"use_label_encoder\" } are not used.\n",
            "\n",
            "  bst.update(dtrain, iteration=i, fobj=obj)\n",
            "/usr/local/python/3.12.1/lib/python3.12/site-packages/xgboost/training.py:183: UserWarning: [17:24:58] WARNING: /workspace/src/learner.cc:738: \n",
            "Parameters: { \"use_label_encoder\" } are not used.\n",
            "\n",
            "  bst.update(dtrain, iteration=i, fobj=obj)\n"
          ]
        },
        {
          "name": "stdout",
          "output_type": "stream",
          "text": [
            "CV ROC AUC: Mean = 1.0000, Std = 0.0000\n",
            "CV Precision: Mean = 1.0000\n",
            "CV Recall: Mean = 1.0000\n",
            "CV F1-Score: Mean = 1.0000\n",
            "\n",
            "Logistic Regression Test Set Results:\n",
            "Accuracy: 0.8795\n",
            "ROC AUC: 0.9592\n",
            "Precision: 0.8878\n",
            "Recall: 0.8208\n",
            "F1-Score: 0.8529\n",
            "\n",
            "Classification Report:\n",
            "               precision    recall  f1-score   support\n",
            "\n",
            "           0       0.87      0.92      0.90       143\n",
            "           1       0.89      0.82      0.85       106\n",
            "\n",
            "    accuracy                           0.88       249\n",
            "   macro avg       0.88      0.87      0.88       249\n",
            "weighted avg       0.88      0.88      0.88       249\n",
            "\n"
          ]
        },
        {
          "name": "stderr",
          "output_type": "stream",
          "text": [
            "/usr/local/python/3.12.1/lib/python3.12/site-packages/xgboost/training.py:183: UserWarning: [17:24:58] WARNING: /workspace/src/learner.cc:738: \n",
            "Parameters: { \"use_label_encoder\" } are not used.\n",
            "\n",
            "  bst.update(dtrain, iteration=i, fobj=obj)\n",
            "/usr/local/python/3.12.1/lib/python3.12/site-packages/xgboost/training.py:183: UserWarning: [17:24:58] WARNING: /workspace/src/learner.cc:738: \n",
            "Parameters: { \"use_label_encoder\" } are not used.\n",
            "\n",
            "  bst.update(dtrain, iteration=i, fobj=obj)\n",
            "/usr/local/python/3.12.1/lib/python3.12/site-packages/xgboost/training.py:183: UserWarning: [17:24:58] WARNING: /workspace/src/learner.cc:738: \n",
            "Parameters: { \"use_label_encoder\" } are not used.\n",
            "\n",
            "  bst.update(dtrain, iteration=i, fobj=obj)\n",
            "/usr/local/python/3.12.1/lib/python3.12/site-packages/xgboost/training.py:183: UserWarning: [17:24:58] WARNING: /workspace/src/learner.cc:738: \n",
            "Parameters: { \"use_label_encoder\" } are not used.\n",
            "\n",
            "  bst.update(dtrain, iteration=i, fobj=obj)\n",
            "/usr/local/python/3.12.1/lib/python3.12/site-packages/xgboost/training.py:183: UserWarning: [17:24:58] WARNING: /workspace/src/learner.cc:738: \n",
            "Parameters: { \"use_label_encoder\" } are not used.\n",
            "\n",
            "  bst.update(dtrain, iteration=i, fobj=obj)\n"
          ]
        },
        {
          "name": "stdout",
          "output_type": "stream",
          "text": [
            "\n",
            "Random Forest Test Set Results:\n",
            "Accuracy: 1.0000\n",
            "ROC AUC: 1.0000\n",
            "Precision: 1.0000\n",
            "Recall: 1.0000\n",
            "F1-Score: 1.0000\n",
            "\n",
            "Classification Report:\n",
            "               precision    recall  f1-score   support\n",
            "\n",
            "           0       1.00      1.00      1.00       143\n",
            "           1       1.00      1.00      1.00       106\n",
            "\n",
            "    accuracy                           1.00       249\n",
            "   macro avg       1.00      1.00      1.00       249\n",
            "weighted avg       1.00      1.00      1.00       249\n",
            "\n",
            "\n",
            "Gradient Boosting Test Set Results:\n",
            "Accuracy: 1.0000\n",
            "ROC AUC: 1.0000\n",
            "Precision: 1.0000\n",
            "Recall: 1.0000\n",
            "F1-Score: 1.0000\n",
            "\n",
            "Classification Report:\n",
            "               precision    recall  f1-score   support\n",
            "\n",
            "           0       1.00      1.00      1.00       143\n",
            "           1       1.00      1.00      1.00       106\n",
            "\n",
            "    accuracy                           1.00       249\n",
            "   macro avg       1.00      1.00      1.00       249\n",
            "weighted avg       1.00      1.00      1.00       249\n",
            "\n",
            "\n",
            "XGBoost Test Set Results:\n",
            "Accuracy: 1.0000\n",
            "ROC AUC: 1.0000\n",
            "Precision: 1.0000\n",
            "Recall: 1.0000\n",
            "F1-Score: 1.0000\n",
            "\n",
            "Classification Report:\n",
            "               precision    recall  f1-score   support\n",
            "\n",
            "           0       1.00      1.00      1.00       143\n",
            "           1       1.00      1.00      1.00       106\n",
            "\n",
            "    accuracy                           1.00       249\n",
            "   macro avg       1.00      1.00      1.00       249\n",
            "weighted avg       1.00      1.00      1.00       249\n",
            "\n"
          ]
        },
        {
          "name": "stderr",
          "output_type": "stream",
          "text": [
            "/usr/local/python/3.12.1/lib/python3.12/site-packages/xgboost/training.py:183: UserWarning: [17:24:59] WARNING: /workspace/src/learner.cc:738: \n",
            "Parameters: { \"use_label_encoder\" } are not used.\n",
            "\n",
            "  bst.update(dtrain, iteration=i, fobj=obj)\n"
          ]
        }
      ],
      "source": [
        "# with the outcome, logistic regression being the worst, others having 100 percent accuracy indicates\n",
        "#possibility of overfitting, there is need to retrain using cross validation and test again\n",
        "\n",
        "\n",
        "\n",
        "\n",
        "\n",
        "\n",
        "# ----------------------------\n",
        "# 1. Split data\n",
        "# ----------------------------\n",
        "X_train, X_test, y_train, y_test = train_test_split(\n",
        "    X, y, test_size=0.3, random_state=42, stratify=y\n",
        ")\n",
        "\n",
        "# ----------------------------\n",
        "# 2. Define models\n",
        "# ----------------------------\n",
        "models_for_cv = {\n",
        "    'Logistic Regression': LogisticRegression(max_iter=1000, random_state=42),\n",
        "    'Random Forest': RandomForestClassifier(random_state=42),\n",
        "    'Gradient Boosting': GradientBoostingClassifier(random_state=42),\n",
        "    'XGBoost': xgb.XGBClassifier(random_state=42, use_label_encoder=False, eval_metric='logloss')\n",
        "}\n",
        "\n",
        "# ----------------------------\n",
        "# 3. Cross-validation on TRAIN SET\n",
        "# ----------------------------\n",
        "cv = StratifiedKFold(n_splits=5, shuffle=True, random_state=42)\n",
        "\n",
        "for name, model in models_for_cv.items():\n",
        "    print(f\"\\n{name} Cross-Validation Results (on Train Set):\")\n",
        "    \n",
        "    # CV Accuracy\n",
        "    cv_accuracy = cross_val_score(model, X_train, y_train, cv=cv, scoring='accuracy')\n",
        "    print(f\"CV Accuracy: Mean = {cv_accuracy.mean():.4f}, Std = {cv_accuracy.std():.4f}\")\n",
        "    \n",
        "    # CV ROC AUC\n",
        "    cv_roc_auc = cross_val_score(model, X_train, y_train, cv=cv, scoring='roc_auc')\n",
        "    print(f\"CV ROC AUC: Mean = {cv_roc_auc.mean():.4f}, Std = {cv_roc_auc.std():.4f}\")\n",
        "    \n",
        "    # Additional metrics\n",
        "    scoring = ['precision', 'recall', 'f1']\n",
        "    cv_results = cross_validate(model, X_train, y_train, cv=cv, scoring=scoring)\n",
        "    print(f\"CV Precision: Mean = {cv_results['test_precision'].mean():.4f}\")\n",
        "    print(f\"CV Recall: Mean = {cv_results['test_recall'].mean():.4f}\")\n",
        "    print(f\"CV F1-Score: Mean = {cv_results['test_f1'].mean():.4f}\")\n",
        "\n",
        "# ----------------------------\n",
        "# 4. Train & Evaluate on TEST SET + Capture Importances\n",
        "# ----------------------------\n",
        "feature_importances = []\n",
        "\n",
        "for name, model in models_for_cv.items():\n",
        "    model.fit(X_train, y_train)\n",
        "    y_pred = model.predict(X_test)\n",
        "    y_pred_proba = model.predict_proba(X_test)[:, 1] if hasattr(model, 'predict_proba') else None\n",
        "    \n",
        "    print(f\"\\n{name} Test Set Results:\")\n",
        "    print(f\"Accuracy: {accuracy_score(y_test, y_pred):.4f}\")\n",
        "    if y_pred_proba is not None:\n",
        "        print(f\"ROC AUC: {roc_auc_score(y_test, y_pred_proba):.4f}\")\n",
        "    print(f\"Precision: {precision_score(y_test, y_pred):.4f}\")\n",
        "    print(f\"Recall: {recall_score(y_test, y_pred):.4f}\")\n",
        "    print(f\"F1-Score: {f1_score(y_test, y_pred):.4f}\")\n",
        "    print(\"\\nClassification Report:\\n\", classification_report(y_test, y_pred))\n",
        "    \n",
        "   \n"
      ]
    },
    {
      "cell_type": "code",
      "execution_count": null,
      "metadata": {},
      "outputs": [],
      "source": [
        "#### Conclusion\n",
        "#From the assessment, Random Forest,Gradient Boosting and XGBboosting seems not to be the best as 100%\n",
        "#accuracy, it seems to be extremely overfit and likely to be reliable models, there is need to check\n",
        "# the feature spreed in contribution to to the predictions compared with logistics regression\n"
      ]
    },
    {
      "cell_type": "code",
      "execution_count": 55,
      "metadata": {},
      "outputs": [
        {
          "name": "stdout",
          "output_type": "stream",
          "text": [
            "\n",
            "Logistic Regression Test Set Results:\n",
            "Accuracy: 0.8795\n",
            "ROC AUC: 0.9592\n",
            "Precision: 0.8878\n",
            "Recall: 0.8208\n",
            "F1-Score: 0.8529\n",
            "\n",
            "Classification Report:\n",
            "               precision    recall  f1-score   support\n",
            "\n",
            "           0       0.87      0.92      0.90       143\n",
            "           1       0.89      0.82      0.85       106\n",
            "\n",
            "    accuracy                           0.88       249\n",
            "   macro avg       0.88      0.87      0.88       249\n",
            "weighted avg       0.88      0.88      0.88       249\n",
            "\n",
            "\n",
            "Random Forest Test Set Results:\n",
            "Accuracy: 1.0000\n",
            "ROC AUC: 1.0000\n",
            "Precision: 1.0000\n",
            "Recall: 1.0000\n",
            "F1-Score: 1.0000\n",
            "\n",
            "Classification Report:\n",
            "               precision    recall  f1-score   support\n",
            "\n",
            "           0       1.00      1.00      1.00       143\n",
            "           1       1.00      1.00      1.00       106\n",
            "\n",
            "    accuracy                           1.00       249\n",
            "   macro avg       1.00      1.00      1.00       249\n",
            "weighted avg       1.00      1.00      1.00       249\n",
            "\n",
            "\n",
            "Gradient Boosting Test Set Results:\n",
            "Accuracy: 1.0000\n",
            "ROC AUC: 1.0000\n",
            "Precision: 1.0000\n",
            "Recall: 1.0000\n",
            "F1-Score: 1.0000\n",
            "\n",
            "Classification Report:\n",
            "               precision    recall  f1-score   support\n",
            "\n",
            "           0       1.00      1.00      1.00       143\n",
            "           1       1.00      1.00      1.00       106\n",
            "\n",
            "    accuracy                           1.00       249\n",
            "   macro avg       1.00      1.00      1.00       249\n",
            "weighted avg       1.00      1.00      1.00       249\n",
            "\n",
            "\n",
            "XGBoost Test Set Results:\n",
            "Accuracy: 1.0000\n",
            "ROC AUC: 1.0000\n",
            "Precision: 1.0000\n",
            "Recall: 1.0000\n",
            "F1-Score: 1.0000\n",
            "\n",
            "Classification Report:\n",
            "               precision    recall  f1-score   support\n",
            "\n",
            "           0       1.00      1.00      1.00       143\n",
            "           1       1.00      1.00      1.00       106\n",
            "\n",
            "    accuracy                           1.00       249\n",
            "   macro avg       1.00      1.00      1.00       249\n",
            "weighted avg       1.00      1.00      1.00       249\n",
            "\n",
            "\n",
            "Combined Feature Importances:\n",
            "                  feature    importance              model\n",
            "0       DAYS_TO_MATURITY  1.000000e+00  Gradient Boosting\n",
            "0       DAYS_TO_MATURITY  1.000000e+00  Gradient Boosting\n",
            "5               CURR_BAL  4.710707e-16  Gradient Boosting\n",
            "5               CURR_BAL  4.710707e-16  Gradient Boosting\n",
            "6     DAYS_RUNNING_SINCE  3.878588e-16  Gradient Boosting\n",
            "..                   ...           ...                ...\n",
            "5               CURR_BAL  0.000000e+00            XGBoost\n",
            "6     DAYS_RUNNING_SINCE  0.000000e+00            XGBoost\n",
            "7   previous_loans_count  0.000000e+00            XGBoost\n",
            "8          INTEREST_RATE  0.000000e+00            XGBoost\n",
            "9         sector_GENERAL  0.000000e+00            XGBoost\n",
            "\n",
            "[80 rows x 3 columns]\n"
          ]
        },
        {
          "name": "stderr",
          "output_type": "stream",
          "text": [
            "/usr/local/python/3.12.1/lib/python3.12/site-packages/xgboost/training.py:183: UserWarning: [17:15:49] WARNING: /workspace/src/learner.cc:738: \n",
            "Parameters: { \"use_label_encoder\" } are not used.\n",
            "\n",
            "  bst.update(dtrain, iteration=i, fobj=obj)\n"
          ]
        }
      ],
      "source": [
        "feature_importances = []\n",
        "\n",
        "for name, model in models_for_cv.items():\n",
        "    model.fit(X_train, y_train)\n",
        "    y_pred = model.predict(X_test)\n",
        "    y_pred_proba = model.predict_proba(X_test)[:, 1] if hasattr(model, 'predict_proba') else None\n",
        "    \n",
        "    print(f\"\\n{name} Test Set Results:\")\n",
        "    print(f\"Accuracy: {accuracy_score(y_test, y_pred):.4f}\")\n",
        "    if y_pred_proba is not None:\n",
        "        print(f\"ROC AUC: {roc_auc_score(y_test, y_pred_proba):.4f}\")\n",
        "    print(f\"Precision: {precision_score(y_test, y_pred):.4f}\")\n",
        "    print(f\"Recall: {recall_score(y_test, y_pred):.4f}\")\n",
        "    print(f\"F1-Score: {f1_score(y_test, y_pred):.4f}\")\n",
        "    print(\"\\nClassification Report:\\n\", classification_report(y_test, y_pred))\n",
        "    \n",
        "    # ----------------------------\n",
        "    # Collect feature importances\n",
        "    # ----------------------------\n",
        "    if hasattr(model, \"feature_importances_\"):  # Tree models\n",
        "        importances = model.feature_importances_\n",
        "    elif hasattr(model, \"coef_\"):  # Logistic Regression\n",
        "        importances = np.abs(model.coef_[0])  # absolute coefficients\n",
        "    else:\n",
        "        importances = None\n",
        "    \n",
        "    if importances is not None:\n",
        "        fi_df = pd.DataFrame({\n",
        "            \"feature\": X.columns,\n",
        "            \"importance\": importances,\n",
        "            \"model\": name\n",
        "        })\n",
        "        feature_importances.append(fi_df)\n",
        "        feature_importances.append(fi_df)\n",
        "\n",
        "# Combine all feature importance dataframes\n",
        "all_importances = pd.concat(feature_importances, axis=0).sort_values(by=[\"model\", \"importance\"], ascending=[True, False])\n",
        "\n",
        "# Display or save\n",
        "print(\"\\nCombined Feature Importances:\\n\", all_importances)"
      ]
    },
    {
      "cell_type": "code",
      "execution_count": 81,
      "metadata": {},
      "outputs": [
        {
          "name": "stderr",
          "output_type": "stream",
          "text": [
            "/tmp/ipykernel_2112/1813678101.py:3: FutureWarning: DataFrameGroupBy.apply operated on the grouping columns. This behavior is deprecated, and in a future version of pandas the grouping columns will be excluded from the operation. Either pass `include_groups=False` to exclude the groupings or explicitly select the grouping columns after groupby to silence this warning.\n",
            "  .apply(lambda df: df.nlargest(10, \"importance\"))\n"
          ]
        },
        {
          "data": {
            "image/png": "[encoded data removed]",
            "text/plain": [
              "<Figure size 640x480 with 1 Axes>"
            ]
          },
          "metadata": {},
          "output_type": "display_data"
        }
      ],
      "source": [
        "top_features = (\n",
        "    all_importances.groupby(\"model\", group_keys=False)\n",
        "    .apply(lambda df: df.nlargest(10, \"importance\"))\n",
        ")\n",
        "\n",
        "\n",
        "sns.barplot(\n",
        "    data=top_features,\n",
        "    x=\"importance\",\n",
        "    y=\"feature\",\n",
        "    hue=\"model\",\n",
        "    dodge=True\n",
        ")\n",
        "\n",
        "plt.title(\"Top 10 Feature Importances per Model\", fontsize=16)\n",
        "plt.xlabel(\"Importance (Coefficient magnitude or Feature Importance)\")\n",
        "plt.ylabel(\"Feature\")\n",
        "plt.legend(title=\"Model\")\n",
        "plt.tight_layout()\n",
        "plt.show()"
      ]
    },
    {
      "cell_type": "code",
      "execution_count": null,
      "metadata": {},
      "outputs": [],
      "source": [
        "#from the graph,Gradient boosting,XGBOOST only have days to maturity as the only basis for prediction whcih\n",
        "#will not be good model,followed by Random forest that is spread across features.Logistic Regression \n",
        "#becomes the choice for prediction as its not overfitted and prediction has a wider spread based on features with days\n",
        "# to maturity being the dominant feature"
      ]
    },
    {
      "cell_type": "code",
      "execution_count": 73,
      "metadata": {},
      "outputs": [
        {
          "name": "stdout",
          "output_type": "stream",
          "text": [
            "Accuracy: 0.8795180722891566\n",
            "Precision: 0.8877551020408163\n",
            "Recall: 0.8207547169811321\n",
            "F1-Score: 0.8529411764705882\n"
          ]
        }
      ],
      "source": [
        "rf_model = models_for_cv['Logistic Regression']\n",
        "\n",
        "# Predict labels\n",
        "rf_preds = rf_model.predict(X_test)\n",
        "\n",
        "# Predict probabilities (for ROC AUC if available)\n",
        "rf_proba = rf_model.predict_proba(X_test)[:, 1] if hasattr(rf_model, \"predict_proba\") else None\n",
        "\n",
        "# Accuracy\n",
        "print(\"Accuracy:\", accuracy_score(y_test, rf_preds))\n",
        "\n",
        "# Precision, Recall, F1\n",
        "print(\"Precision:\", precision_score(y_test, rf_preds))\n",
        "print(\"Recall:\", recall_score(y_test, rf_preds))\n",
        "print(\"F1-Score:\", f1_score(y_test, rf_preds))"
      ]
    },
    {
      "cell_type": "code",
      "execution_count": 82,
      "metadata": {},
      "outputs": [
        {
          "data": {
            "image/png": "[encoded data removed]",
            "text/plain": [
              "<Figure size 600x400 with 2 Axes>"
            ]
          },
          "metadata": {},
          "output_type": "display_data"
        },
        {
          "data": {
            "image/png": "[encoded data removed]",
            "text/plain": [
              "<Figure size 600x400 with 1 Axes>"
            ]
          },
          "metadata": {},
          "output_type": "display_data"
        }
      ],
      "source": [
        "# ---- Confusion Matrix Heatmap ----\n",
        "cm = confusion_matrix(y_test, rf_preds)\n",
        "plt.figure(figsize=(6,4))\n",
        "sns.heatmap(cm, annot=True, fmt=\"d\", cmap=\"Blues\", xticklabels=[0,1], yticklabels=[0,1])\n",
        "plt.xlabel(\"Predicted\")\n",
        "plt.ylabel(\"Actual\")\n",
        "plt.title(\"Confusion Matrix Heatmap\")\n",
        "plt.show()\n",
        "\n",
        "# ---- ROC Curve ----\n",
        "if rf_proba is not None:\n",
        "    fpr, tpr, thresholds = roc_curve(y_test, rf_proba)\n",
        "    roc_auc = auc(fpr, tpr)\n",
        "\n",
        "    plt.figure(figsize=(6,4))\n",
        "    plt.plot(fpr, tpr, color=\"blue\", label=f\"ROC curve (AUC = {roc_auc:.2f})\")\n",
        "    plt.plot([0, 1], [0, 1], color=\"red\", linestyle=\"--\")\n",
        "    plt.xlabel(\"False Positive Rate\")\n",
        "    plt.ylabel(\"True Positive Rate\")\n",
        "    plt.title(\"ROC Curve\")\n",
        "    plt.legend(loc=\"lower right\")\n",
        "    plt.show()"
      ]
    },
    {
      "cell_type": "code",
      "execution_count": 83,
      "metadata": {},
      "outputs": [
        {
          "name": "stdout",
          "output_type": "stream",
          "text": [
            "Fitting 5 folds for each of 36 candidates, totalling 180 fits\n",
            "[CV] END ...................C=0.001, penalty=l1, solver=saga; total time=   0.0s\n",
            "[CV] END ...................C=0.001, penalty=l1, solver=saga; total time=   0.0s\n",
            "[CV] END ...................C=0.001, penalty=l1, solver=saga; total time=   0.0s\n",
            "[CV] END ...................C=0.001, penalty=l1, solver=saga; total time=   0.0s\n",
            "[CV] END ...................C=0.001, penalty=l1, solver=saga; total time=   0.0s\n",
            "[CV] END ..............C=0.001, penalty=l1, solver=liblinear; total time=   0.0s\n",
            "[CV] END ..............C=0.001, penalty=l1, solver=liblinear; total time=   0.0s\n",
            "[CV] END ..............C=0.001, penalty=l1, solver=liblinear; total time=   0.0s\n",
            "[CV] END ..............C=0.001, penalty=l1, solver=liblinear; total time=   0.0s\n",
            "[CV] END ..............C=0.001, penalty=l1, solver=liblinear; total time=   0.0s\n",
            "[CV] END ...................C=0.001, penalty=l2, solver=saga; total time=   0.0s\n",
            "[CV] END ...................C=0.001, penalty=l2, solver=saga; total time=   0.0s\n",
            "[CV] END ...................C=0.001, penalty=l2, solver=saga; total time=   0.0s\n",
            "[CV] END ...................C=0.001, penalty=l2, solver=saga; total time=   0.0s\n",
            "[CV] END ...................C=0.001, penalty=l2, solver=saga; total time=   0.0s\n",
            "[CV] END ..............C=0.001, penalty=l2, solver=liblinear; total time=   0.0s\n",
            "[CV] END ..............C=0.001, penalty=l2, solver=liblinear; total time=   0.0s\n",
            "[CV] END ..............C=0.001, penalty=l2, solver=liblinear; total time=   0.0s\n",
            "[CV] END ..............C=0.001, penalty=l2, solver=liblinear; total time=   0.0s\n",
            "[CV] END ...........C=0.001, penalty=elasticnet, solver=saga; total time=   0.0s\n",
            "[CV] END ...........C=0.001, penalty=elasticnet, solver=saga; total time=   0.0s\n",
            "[CV] END ..............C=0.001, penalty=l2, solver=liblinear; total time=   0.0s[CV] END ...........C=0.001, penalty=elasticnet, solver=saga; total time=   0.0s\n",
            "\n",
            "[CV] END ...........C=0.001, penalty=elasticnet, solver=saga; total time=   0.0s\n",
            "[CV] END ......C=0.001, penalty=elasticnet, solver=liblinear; total time=   0.0s[CV] END ...........C=0.001, penalty=elasticnet, solver=saga; total time=   0.0s\n",
            "\n",
            "[CV] END ......C=0.001, penalty=elasticnet, solver=liblinear; total time=   0.0s\n",
            "[CV] END ......C=0.001, penalty=elasticnet, solver=liblinear; total time=   0.0s\n",
            "[CV] END ......C=0.001, penalty=elasticnet, solver=liblinear; total time=   0.0s\n",
            "[CV] END ......C=0.001, penalty=elasticnet, solver=liblinear; total time=   0.0s\n",
            "[CV] END ....................C=0.01, penalty=l1, solver=saga; total time=   0.0s\n",
            "[CV] END ....................C=0.01, penalty=l1, solver=saga; total time=   0.0s\n",
            "[CV] END ....................C=0.01, penalty=l1, solver=saga; total time=   0.0s\n",
            "[CV] END ....................C=0.01, penalty=l1, solver=saga; total time=   0.0s\n",
            "[CV] END ....................C=0.01, penalty=l1, solver=saga; total time=   0.0s\n",
            "[CV] END ...............C=0.01, penalty=l1, solver=liblinear; total time=   0.0s\n",
            "[CV] END ...............C=0.01, penalty=l1, solver=liblinear; total time=   0.0s\n",
            "[CV] END ....................C=0.01, penalty=l2, solver=saga; total time=   0.0s\n",
            "[CV] END ...............C=0.01, penalty=l1, solver=liblinear; total time=   0.0s\n",
            "[CV] END ....................C=0.01, penalty=l2, solver=saga; total time=   0.0s\n",
            "[CV] END ...............C=0.01, penalty=l1, solver=liblinear; total time=   0.0s\n",
            "[CV] END ....................C=0.01, penalty=l2, solver=saga; total time=   0.0s\n",
            "[CV] END ...............C=0.01, penalty=l1, solver=liblinear; total time=   0.0s\n",
            "[CV] END ....................C=0.01, penalty=l2, solver=saga; total time=   0.0s[CV] END ....................C=0.01, penalty=l2, solver=saga; total time=   0.0s\n",
            "\n",
            "[CV] END ............C=0.01, penalty=elasticnet, solver=saga; total time=   0.0s\n",
            "[CV] END ............C=0.01, penalty=elasticnet, solver=saga; total time=   0.0s[CV] END ...............C=0.01, penalty=l2, solver=liblinear; total time=   0.0s\n",
            "\n",
            "[CV] END ............C=0.01, penalty=elasticnet, solver=saga; total time=   0.0s\n",
            "[CV] END .......C=0.01, penalty=elasticnet, solver=liblinear; total time=   0.0s\n",
            "[CV] END .......C=0.01, penalty=elasticnet, solver=liblinear; total time=   0.0s\n",
            "[CV] END .......C=0.01, penalty=elasticnet, solver=liblinear; total time=   0.0s\n",
            "[CV] END ...............C=0.01, penalty=l2, solver=liblinear; total time=   0.0s\n",
            "[CV] END .......C=0.01, penalty=elasticnet, solver=liblinear; total time=   0.0s\n",
            "[CV] END .......C=0.01, penalty=elasticnet, solver=liblinear; total time=   0.0s\n",
            "[CV] END ...............C=0.01, penalty=l2, solver=liblinear; total time=   0.0s\n",
            "[CV] END ...............C=0.01, penalty=l2, solver=liblinear; total time=   0.0s\n",
            "[CV] END ...............C=0.01, penalty=l2, solver=liblinear; total time=   0.0s\n",
            "[CV] END ............C=0.01, penalty=elasticnet, solver=saga; total time=   0.0s\n",
            "[CV] END ............C=0.01, penalty=elasticnet, solver=saga; total time=   0.0s\n",
            "[CV] END ................C=0.1, penalty=l1, solver=liblinear; total time=   0.0s\n",
            "[CV] END ................C=0.1, penalty=l1, solver=liblinear; total time=   0.0s\n",
            "[CV] END .....................C=0.1, penalty=l2, solver=saga; total time=   0.0s\n",
            "[CV] END .....................C=0.1, penalty=l1, solver=saga; total time=   0.1s\n",
            "[CV] END .....................C=0.1, penalty=l2, solver=saga; total time=   0.0s\n",
            "[CV] END .....................C=0.1, penalty=l2, solver=saga; total time=   0.0s\n",
            "[CV] END .....................C=0.1, penalty=l2, solver=saga; total time=   0.0s\n",
            "[CV] END .....................C=0.1, penalty=l2, solver=saga; total time=   0.0s\n",
            "[CV] END ................C=0.1, penalty=l2, solver=liblinear; total time=   0.0s\n",
            "[CV] END ................C=0.1, penalty=l2, solver=liblinear; total time=   0.0s\n",
            "[CV] END ................C=0.1, penalty=l2, solver=liblinear; total time=   0.0s\n",
            "[CV] END ................C=0.1, penalty=l2, solver=liblinear; total time=   0.0s\n",
            "[CV] END ................C=0.1, penalty=l2, solver=liblinear; total time=   0.0s\n",
            "[CV] END .............C=0.1, penalty=elasticnet, solver=saga; total time=   0.0s\n",
            "[CV] END .....................C=0.1, penalty=l1, solver=saga; total time=   0.1s\n",
            "[CV] END .............C=0.1, penalty=elasticnet, solver=saga; total time=   0.0s\n",
            "[CV] END .............C=0.1, penalty=elasticnet, solver=saga; total time=   0.0s\n",
            "[CV] END .............C=0.1, penalty=elasticnet, solver=saga; total time=   0.0s\n",
            "[CV] END .............C=0.1, penalty=elasticnet, solver=saga; total time=   0.0s\n",
            "[CV] END ........C=0.1, penalty=elasticnet, solver=liblinear; total time=   0.0s\n",
            "[CV] END ........C=0.1, penalty=elasticnet, solver=liblinear; total time=   0.0s\n",
            "[CV] END ........C=0.1, penalty=elasticnet, solver=liblinear; total time=   0.0s\n",
            "[CV] END ........C=0.1, penalty=elasticnet, solver=liblinear; total time=   0.0s\n",
            "[CV] END ........C=0.1, penalty=elasticnet, solver=liblinear; total time=   0.0s\n",
            "[CV] END .....................C=0.1, penalty=l1, solver=saga; total time=   0.0s\n",
            "[CV] END .....................C=0.1, penalty=l1, solver=saga; total time=   0.1s\n",
            "[CV] END .......................C=1, penalty=l1, solver=saga; total time=   0.2s\n",
            "[CV] END .....................C=0.1, penalty=l1, solver=saga; total time=   0.1s\n",
            "[CV] END ................C=0.1, penalty=l1, solver=liblinear; total time=   0.0s\n",
            "[CV] END ................C=0.1, penalty=l1, solver=liblinear; total time=   0.0s\n",
            "[CV] END ................C=0.1, penalty=l1, solver=liblinear; total time=   0.0s\n"
          ]
        },
        {
          "name": "stderr",
          "output_type": "stream",
          "text": [
            "/home/codespace/.local/lib/python3.12/site-packages/sklearn/linear_model/_sag.py:348: ConvergenceWarning: The max_iter was reached which means the coef_ did not converge\n",
            "  warnings.warn(\n",
            "/home/codespace/.local/lib/python3.12/site-packages/sklearn/linear_model/_sag.py:348: ConvergenceWarning: The max_iter was reached which means the coef_ did not converge\n",
            "  warnings.warn(\n"
          ]
        },
        {
          "name": "stdout",
          "output_type": "stream",
          "text": [
            "[CV] END .......................C=1, penalty=l1, solver=saga; total time=   0.2s\n",
            "[CV] END ..................C=1, penalty=l2, solver=liblinear; total time=   0.0s\n",
            "[CV] END ..................C=1, penalty=l2, solver=liblinear; total time=   0.0s\n",
            "[CV] END ...............C=1, penalty=elasticnet, solver=saga; total time=   0.0s\n",
            "[CV] END ...............C=1, penalty=elasticnet, solver=saga; total time=   0.0s\n",
            "[CV] END ...............C=1, penalty=elasticnet, solver=saga; total time=   0.0s\n",
            "[CV] END ...............C=1, penalty=elasticnet, solver=saga; total time=   0.0s\n",
            "[CV] END ...............C=1, penalty=elasticnet, solver=saga; total time=   0.0s\n",
            "[CV] END ..........C=1, penalty=elasticnet, solver=liblinear; total time=   0.0s\n",
            "[CV] END ..........C=1, penalty=elasticnet, solver=liblinear; total time=   0.0s\n",
            "[CV] END .......................C=1, penalty=l1, solver=saga; total time=   0.2s\n",
            "[CV] END ..........C=1, penalty=elasticnet, solver=liblinear; total time=   0.0s\n",
            "[CV] END ..........C=1, penalty=elasticnet, solver=liblinear; total time=   0.0s\n",
            "[CV] END ..........C=1, penalty=elasticnet, solver=liblinear; total time=   0.0s\n",
            "[CV] END .......................C=1, penalty=l1, solver=saga; total time=   0.2s\n"
          ]
        },
        {
          "name": "stderr",
          "output_type": "stream",
          "text": [
            "/home/codespace/.local/lib/python3.12/site-packages/sklearn/linear_model/_sag.py:348: ConvergenceWarning: The max_iter was reached which means the coef_ did not converge\n",
            "  warnings.warn(\n",
            "/home/codespace/.local/lib/python3.12/site-packages/sklearn/linear_model/_sag.py:348: ConvergenceWarning: The max_iter was reached which means the coef_ did not converge\n",
            "  warnings.warn(\n",
            "/home/codespace/.local/lib/python3.12/site-packages/sklearn/linear_model/_sag.py:348: ConvergenceWarning: The max_iter was reached which means the coef_ did not converge\n",
            "  warnings.warn(\n"
          ]
        },
        {
          "name": "stdout",
          "output_type": "stream",
          "text": [
            "[CV] END ......................C=10, penalty=l1, solver=saga; total time=   0.2s\n",
            "[CV] END .......................C=1, penalty=l1, solver=saga; total time=   0.2s\n",
            "[CV] END ..................C=1, penalty=l1, solver=liblinear; total time=   0.0s\n",
            "[CV] END ..................C=1, penalty=l1, solver=liblinear; total time=   0.0s\n",
            "[CV] END ..................C=1, penalty=l1, solver=liblinear; total time=   0.0s\n",
            "[CV] END ......................C=10, penalty=l1, solver=saga; total time=   0.2s\n",
            "[CV] END ..................C=1, penalty=l1, solver=liblinear; total time=   0.0s\n",
            "[CV] END ..................C=1, penalty=l1, solver=liblinear; total time=   0.0s\n"
          ]
        },
        {
          "name": "stderr",
          "output_type": "stream",
          "text": [
            "/home/codespace/.local/lib/python3.12/site-packages/sklearn/linear_model/_sag.py:348: ConvergenceWarning: The max_iter was reached which means the coef_ did not converge\n",
            "  warnings.warn(\n",
            "/home/codespace/.local/lib/python3.12/site-packages/sklearn/linear_model/_sag.py:348: ConvergenceWarning: The max_iter was reached which means the coef_ did not converge\n",
            "  warnings.warn(\n"
          ]
        },
        {
          "name": "stdout",
          "output_type": "stream",
          "text": [
            "[CV] END .......................C=1, penalty=l2, solver=saga; total time=   0.0s\n",
            "[CV] END .......................C=1, penalty=l2, solver=saga; total time=   0.1s\n",
            "[CV] END .......................C=1, penalty=l2, solver=saga; total time=   0.0s\n",
            "[CV] END ......................C=10, penalty=l1, solver=saga; total time=   0.2s\n",
            "[CV] END .......................C=1, penalty=l2, solver=saga; total time=   0.0s\n",
            "[CV] END .......................C=1, penalty=l2, solver=saga; total time=   0.0s\n",
            "[CV] END ..................C=1, penalty=l2, solver=liblinear; total time=   0.0s\n"
          ]
        },
        {
          "name": "stderr",
          "output_type": "stream",
          "text": [
            "/home/codespace/.local/lib/python3.12/site-packages/sklearn/linear_model/_sag.py:348: ConvergenceWarning: The max_iter was reached which means the coef_ did not converge\n",
            "  warnings.warn(\n",
            "/home/codespace/.local/lib/python3.12/site-packages/sklearn/linear_model/_sag.py:348: ConvergenceWarning: The max_iter was reached which means the coef_ did not converge\n",
            "  warnings.warn(\n"
          ]
        },
        {
          "name": "stdout",
          "output_type": "stream",
          "text": [
            "[CV] END ..................C=1, penalty=l2, solver=liblinear; total time=   0.0s\n",
            "[CV] END ..................C=1, penalty=l2, solver=liblinear; total time=   0.0s\n",
            "[CV] END ......................C=10, penalty=l1, solver=saga; total time=   0.2s\n",
            "[CV] END ..............C=10, penalty=elasticnet, solver=saga; total time=   0.0s\n",
            "[CV] END ..............C=10, penalty=elasticnet, solver=saga; total time=   0.0s\n",
            "[CV] END ..............C=10, penalty=elasticnet, solver=saga; total time=   0.0s\n",
            "[CV] END ..............C=10, penalty=elasticnet, solver=saga; total time=   0.0s\n",
            "[CV] END ..............C=10, penalty=elasticnet, solver=saga; total time=   0.0s\n",
            "[CV] END .........C=10, penalty=elasticnet, solver=liblinear; total time=   0.0s\n",
            "[CV] END .........C=10, penalty=elasticnet, solver=liblinear; total time=   0.0s\n",
            "[CV] END .........C=10, penalty=elasticnet, solver=liblinear; total time=   0.0s\n",
            "[CV] END .........C=10, penalty=elasticnet, solver=liblinear; total time=   0.0s\n",
            "[CV] END .........C=10, penalty=elasticnet, solver=liblinear; total time=   0.0s\n"
          ]
        },
        {
          "name": "stderr",
          "output_type": "stream",
          "text": [
            "/home/codespace/.local/lib/python3.12/site-packages/sklearn/linear_model/_sag.py:348: ConvergenceWarning: The max_iter was reached which means the coef_ did not converge\n",
            "  warnings.warn(\n",
            "/home/codespace/.local/lib/python3.12/site-packages/sklearn/linear_model/_sag.py:348: ConvergenceWarning: The max_iter was reached which means the coef_ did not converge\n",
            "  warnings.warn(\n"
          ]
        },
        {
          "name": "stdout",
          "output_type": "stream",
          "text": [
            "[CV] END ......................C=10, penalty=l1, solver=saga; total time=   0.3s\n",
            "[CV] END .....................C=100, penalty=l1, solver=saga; total time=   0.2s\n"
          ]
        },
        {
          "name": "stderr",
          "output_type": "stream",
          "text": [
            "/home/codespace/.local/lib/python3.12/site-packages/sklearn/linear_model/_sag.py:348: ConvergenceWarning: The max_iter was reached which means the coef_ did not converge\n",
            "  warnings.warn(\n",
            "/home/codespace/.local/lib/python3.12/site-packages/sklearn/linear_model/_sag.py:348: ConvergenceWarning: The max_iter was reached which means the coef_ did not converge\n",
            "  warnings.warn(\n"
          ]
        },
        {
          "name": "stdout",
          "output_type": "stream",
          "text": [
            "[CV] END .....................C=100, penalty=l1, solver=saga; total time=   0.2s\n",
            "[CV] END .....................C=100, penalty=l1, solver=saga; total time=   0.2s\n"
          ]
        },
        {
          "name": "stderr",
          "output_type": "stream",
          "text": [
            "/home/codespace/.local/lib/python3.12/site-packages/sklearn/linear_model/_sag.py:348: ConvergenceWarning: The max_iter was reached which means the coef_ did not converge\n",
            "  warnings.warn(\n",
            "/home/codespace/.local/lib/python3.12/site-packages/sklearn/linear_model/_sag.py:348: ConvergenceWarning: The max_iter was reached which means the coef_ did not converge\n",
            "  warnings.warn(\n"
          ]
        },
        {
          "name": "stdout",
          "output_type": "stream",
          "text": [
            "[CV] END .....................C=100, penalty=l1, solver=saga; total time=   0.2s\n",
            "[CV] END .....................C=100, penalty=l1, solver=saga; total time=   0.2s\n"
          ]
        },
        {
          "name": "stderr",
          "output_type": "stream",
          "text": [
            "/home/codespace/.local/lib/python3.12/site-packages/sklearn/svm/_base.py:1250: ConvergenceWarning: Liblinear failed to converge, increase the number of iterations.\n",
            "  warnings.warn(\n"
          ]
        },
        {
          "name": "stdout",
          "output_type": "stream",
          "text": [
            "[CV] END .................C=10, penalty=l1, solver=liblinear; total time=   9.2s\n"
          ]
        },
        {
          "name": "stderr",
          "output_type": "stream",
          "text": [
            "/home/codespace/.local/lib/python3.12/site-packages/sklearn/svm/_base.py:1250: ConvergenceWarning: Liblinear failed to converge, increase the number of iterations.\n",
            "  warnings.warn(\n"
          ]
        },
        {
          "name": "stdout",
          "output_type": "stream",
          "text": [
            "[CV] END ................C=100, penalty=l1, solver=liblinear; total time=   9.7s\n"
          ]
        },
        {
          "name": "stderr",
          "output_type": "stream",
          "text": [
            "/home/codespace/.local/lib/python3.12/site-packages/sklearn/svm/_base.py:1250: ConvergenceWarning: Liblinear failed to converge, increase the number of iterations.\n",
            "  warnings.warn(\n"
          ]
        },
        {
          "name": "stdout",
          "output_type": "stream",
          "text": [
            "[CV] END .................C=10, penalty=l1, solver=liblinear; total time=   9.4s\n"
          ]
        },
        {
          "name": "stderr",
          "output_type": "stream",
          "text": [
            "/home/codespace/.local/lib/python3.12/site-packages/sklearn/svm/_base.py:1250: ConvergenceWarning: Liblinear failed to converge, increase the number of iterations.\n",
            "  warnings.warn(\n"
          ]
        },
        {
          "name": "stdout",
          "output_type": "stream",
          "text": [
            "[CV] END ................C=100, penalty=l1, solver=liblinear; total time=   9.7s\n"
          ]
        },
        {
          "name": "stderr",
          "output_type": "stream",
          "text": [
            "/home/codespace/.local/lib/python3.12/site-packages/sklearn/svm/_base.py:1250: ConvergenceWarning: Liblinear failed to converge, increase the number of iterations.\n",
            "  warnings.warn(\n"
          ]
        },
        {
          "name": "stdout",
          "output_type": "stream",
          "text": [
            "[CV] END .................C=10, penalty=l1, solver=liblinear; total time=  10.3s\n"
          ]
        },
        {
          "name": "stderr",
          "output_type": "stream",
          "text": [
            "/home/codespace/.local/lib/python3.12/site-packages/sklearn/svm/_base.py:1250: ConvergenceWarning: Liblinear failed to converge, increase the number of iterations.\n",
            "  warnings.warn(\n"
          ]
        },
        {
          "name": "stdout",
          "output_type": "stream",
          "text": [
            "[CV] END ................C=100, penalty=l1, solver=liblinear; total time=  10.7s\n"
          ]
        },
        {
          "name": "stderr",
          "output_type": "stream",
          "text": [
            "/home/codespace/.local/lib/python3.12/site-packages/sklearn/svm/_base.py:1250: ConvergenceWarning: Liblinear failed to converge, increase the number of iterations.\n",
            "  warnings.warn(\n"
          ]
        },
        {
          "name": "stdout",
          "output_type": "stream",
          "text": [
            "[CV] END .................C=10, penalty=l1, solver=liblinear; total time=   9.6s\n"
          ]
        },
        {
          "name": "stderr",
          "output_type": "stream",
          "text": [
            "/home/codespace/.local/lib/python3.12/site-packages/sklearn/svm/_base.py:1250: ConvergenceWarning: Liblinear failed to converge, increase the number of iterations.\n",
            "  warnings.warn(\n"
          ]
        },
        {
          "name": "stdout",
          "output_type": "stream",
          "text": [
            "[CV] END ................C=100, penalty=l1, solver=liblinear; total time=   9.7s\n"
          ]
        },
        {
          "name": "stderr",
          "output_type": "stream",
          "text": [
            "/home/codespace/.local/lib/python3.12/site-packages/sklearn/svm/_base.py:1250: ConvergenceWarning: Liblinear failed to converge, increase the number of iterations.\n",
            "  warnings.warn(\n",
            "/home/codespace/.local/lib/python3.12/site-packages/sklearn/linear_model/_sag.py:348: ConvergenceWarning: The max_iter was reached which means the coef_ did not converge\n",
            "  warnings.warn(\n"
          ]
        },
        {
          "name": "stdout",
          "output_type": "stream",
          "text": [
            "[CV] END .................C=10, penalty=l1, solver=liblinear; total time=   9.3s\n",
            "[CV] END ......................C=10, penalty=l2, solver=saga; total time=   0.1s\n",
            "[CV] END ......................C=10, penalty=l2, solver=saga; total time=   0.2s\n",
            "[CV] END ......................C=10, penalty=l2, solver=saga; total time=   0.2s\n"
          ]
        },
        {
          "name": "stderr",
          "output_type": "stream",
          "text": [
            "/home/codespace/.local/lib/python3.12/site-packages/sklearn/linear_model/_sag.py:348: ConvergenceWarning: The max_iter was reached which means the coef_ did not converge\n",
            "  warnings.warn(\n"
          ]
        },
        {
          "name": "stdout",
          "output_type": "stream",
          "text": [
            "[CV] END ......................C=10, penalty=l2, solver=saga; total time=   0.1s\n",
            "[CV] END ......................C=10, penalty=l2, solver=saga; total time=   0.1s\n",
            "[CV] END .................C=10, penalty=l2, solver=liblinear; total time=   0.0s\n",
            "[CV] END .................C=10, penalty=l2, solver=liblinear; total time=   0.0s\n",
            "[CV] END .................C=10, penalty=l2, solver=liblinear; total time=   0.0s\n",
            "[CV] END .................C=10, penalty=l2, solver=liblinear; total time=   0.0s\n",
            "[CV] END .................C=10, penalty=l2, solver=liblinear; total time=   0.0s\n",
            "[CV] END .............C=100, penalty=elasticnet, solver=saga; total time=   0.0s\n",
            "[CV] END .............C=100, penalty=elasticnet, solver=saga; total time=   0.0s\n",
            "[CV] END .............C=100, penalty=elasticnet, solver=saga; total time=   0.0s\n",
            "[CV] END ........C=100, penalty=elasticnet, solver=liblinear; total time=   0.0s\n",
            "[CV] END ........C=100, penalty=elasticnet, solver=liblinear; total time=   0.0s\n",
            "[CV] END ........C=100, penalty=elasticnet, solver=liblinear; total time=   0.0s\n",
            "[CV] END ........C=100, penalty=elasticnet, solver=liblinear; total time=   0.0s\n",
            "[CV] END ........C=100, penalty=elasticnet, solver=liblinear; total time=   0.0s\n"
          ]
        },
        {
          "name": "stderr",
          "output_type": "stream",
          "text": [
            "/home/codespace/.local/lib/python3.12/site-packages/sklearn/svm/_base.py:1250: ConvergenceWarning: Liblinear failed to converge, increase the number of iterations.\n",
            "  warnings.warn(\n",
            "/home/codespace/.local/lib/python3.12/site-packages/sklearn/linear_model/_sag.py:348: ConvergenceWarning: The max_iter was reached which means the coef_ did not converge\n",
            "  warnings.warn(\n",
            "/home/codespace/.local/lib/python3.12/site-packages/sklearn/linear_model/_sag.py:348: ConvergenceWarning: The max_iter was reached which means the coef_ did not converge\n",
            "  warnings.warn(\n"
          ]
        },
        {
          "name": "stdout",
          "output_type": "stream",
          "text": [
            "[CV] END ................C=100, penalty=l1, solver=liblinear; total time=   9.0s\n",
            "[CV] END .....................C=100, penalty=l2, solver=saga; total time=   0.1s\n",
            "[CV] END .....................C=100, penalty=l2, solver=saga; total time=   0.1s\n"
          ]
        },
        {
          "name": "stderr",
          "output_type": "stream",
          "text": [
            "/home/codespace/.local/lib/python3.12/site-packages/sklearn/linear_model/_sag.py:348: ConvergenceWarning: The max_iter was reached which means the coef_ did not converge\n",
            "  warnings.warn(\n",
            "/home/codespace/.local/lib/python3.12/site-packages/sklearn/linear_model/_sag.py:348: ConvergenceWarning: The max_iter was reached which means the coef_ did not converge\n",
            "  warnings.warn(\n",
            "/home/codespace/.local/lib/python3.12/site-packages/sklearn/linear_model/_sag.py:348: ConvergenceWarning: The max_iter was reached which means the coef_ did not converge\n",
            "  warnings.warn(\n",
            "/home/codespace/.local/lib/python3.12/site-packages/sklearn/model_selection/_validation.py:516: FitFailedWarning: \n",
            "60 fits failed out of a total of 180.\n",
            "The score on these train-test partitions for these parameters will be set to nan.\n",
            "If these failures are not expected, you can try to debug them by setting error_score='raise'.\n",
            "\n",
            "Below are more details about the failures:\n",
            "--------------------------------------------------------------------------------\n",
            "30 fits failed with the following error:\n",
            "Traceback (most recent call last):\n",
            "  File \"/home/codespace/.local/lib/python3.12/site-packages/sklearn/model_selection/_validation.py\", line 859, in _fit_and_score\n",
            "    estimator.fit(X_train, y_train, **fit_params)\n",
            "  File \"/home/codespace/.local/lib/python3.12/site-packages/sklearn/base.py\", line 1363, in wrapper\n",
            "    return fit_method(estimator, *args, **kwargs)\n",
            "           ^^^^^^^^^^^^^^^^^^^^^^^^^^^^^^^^^^^^^^\n",
            "  File \"/home/codespace/.local/lib/python3.12/site-packages/sklearn/linear_model/_logistic.py\", line 1220, in fit\n",
            "    raise ValueError(\"l1_ratio must be specified when penalty is elasticnet.\")\n",
            "ValueError: l1_ratio must be specified when penalty is elasticnet.\n",
            "\n",
            "--------------------------------------------------------------------------------\n",
            "30 fits failed with the following error:\n",
            "Traceback (most recent call last):\n",
            "  File \"/home/codespace/.local/lib/python3.12/site-packages/sklearn/model_selection/_validation.py\", line 859, in _fit_and_score\n",
            "    estimator.fit(X_train, y_train, **fit_params)\n",
            "  File \"/home/codespace/.local/lib/python3.12/site-packages/sklearn/base.py\", line 1363, in wrapper\n",
            "    return fit_method(estimator, *args, **kwargs)\n",
            "           ^^^^^^^^^^^^^^^^^^^^^^^^^^^^^^^^^^^^^^\n",
            "  File \"/home/codespace/.local/lib/python3.12/site-packages/sklearn/linear_model/_logistic.py\", line 1210, in fit\n",
            "    solver = _check_solver(self.solver, self.penalty, self.dual)\n",
            "             ^^^^^^^^^^^^^^^^^^^^^^^^^^^^^^^^^^^^^^^^^^^^^^^^^^^\n",
            "  File \"/home/codespace/.local/lib/python3.12/site-packages/sklearn/linear_model/_logistic.py\", line 71, in _check_solver\n",
            "    raise ValueError(\n",
            "ValueError: Only 'saga' solver supports elasticnet penalty, got solver=liblinear.\n",
            "\n",
            "  warnings.warn(some_fits_failed_message, FitFailedWarning)\n",
            "/home/codespace/.local/lib/python3.12/site-packages/sklearn/model_selection/_search.py:1135: UserWarning: One or more of the test scores are non-finite: [0.5        0.5        0.91641675 0.91372806        nan        nan\n",
            " 1.         1.         0.93563583 0.93349047        nan        nan\n",
            " 0.96547099 0.96489711 0.95922922 0.95842897        nan        nan\n",
            " 0.98249807 0.98608625 0.96965529 0.9695316         nan        nan\n",
            " 0.98457047 0.99653669 0.97920734 0.97993681        nan        nan\n",
            " 0.98463107 0.99647732 0.98396254 0.9886373         nan        nan]\n",
            "  warnings.warn(\n"
          ]
        },
        {
          "name": "stdout",
          "output_type": "stream",
          "text": [
            "[CV] END .....................C=100, penalty=l2, solver=saga; total time=   0.1s\n",
            "[CV] END .....................C=100, penalty=l2, solver=saga; total time=   0.1s\n",
            "[CV] END .....................C=100, penalty=l2, solver=saga; total time=   0.1s\n",
            "[CV] END ................C=100, penalty=l2, solver=liblinear; total time=   0.0s\n",
            "[CV] END ................C=100, penalty=l2, solver=liblinear; total time=   0.0s\n",
            "[CV] END ................C=100, penalty=l2, solver=liblinear; total time=   0.0s\n",
            "[CV] END ................C=100, penalty=l2, solver=liblinear; total time=   0.0s\n",
            "[CV] END ................C=100, penalty=l2, solver=liblinear; total time=   0.0s\n",
            "[CV] END .............C=100, penalty=elasticnet, solver=saga; total time=   0.0s\n",
            "[CV] END .............C=100, penalty=elasticnet, solver=saga; total time=   0.0s\n",
            "Best Logistic Regression Parameters: {'C': 0.01, 'penalty': 'l1', 'solver': 'saga'}\n",
            "Best CV ROC AUC: 1.0\n",
            "\n",
            "Test Set Metrics:\n",
            "Accuracy: 0.8795180722891566\n",
            "ROC AUC: 0.9592294497954875\n",
            "Precision: 0.8877551020408163\n",
            "Recall: 0.8207547169811321\n",
            "F1-Score: 0.8529411764705882\n",
            "\n",
            "Classification Report:\n",
            "               precision    recall  f1-score   support\n",
            "\n",
            "           0       0.87      0.92      0.90       143\n",
            "           1       0.89      0.82      0.85       106\n",
            "\n",
            "    accuracy                           0.88       249\n",
            "   macro avg       0.88      0.87      0.88       249\n",
            "weighted avg       0.88      0.88      0.88       249\n",
            "\n"
          ]
        }
      ],
      "source": [
        "# Define parameter grid for Logistic Regression\n",
        "param_grid = {\n",
        "    'C': [0.001, 0.01, 0.1, 1, 10, 100],\n",
        "    'penalty': ['l1', 'l2', 'elasticnet'],\n",
        "    'solver': ['saga', 'liblinear']\n",
        "}\n",
        "\n",
        "# Base model\n",
        "log_reg = LogisticRegression(max_iter=1000, random_state=42)\n",
        "\n",
        "# Grid search with 5-fold cross-validation\n",
        "grid_search = GridSearchCV(\n",
        "    estimator=log_reg,\n",
        "    param_grid=param_grid,\n",
        "    cv=5,\n",
        "    scoring='roc_auc',   # Better for imbalance than accuracy\n",
        "    n_jobs=-1,\n",
        "    verbose=2\n",
        ")\n",
        "\n",
        "# Fit on training data\n",
        "grid_search.fit(X_train, y_train)\n",
        "\n",
        "\n",
        "hypertuned_rf_model = grid_search.best_estimator_\n",
        "\n",
        "print(\"Best Logistic Regression Parameters:\", grid_search.best_params_)\n",
        "print(\"Best CV ROC AUC:\", grid_search.best_score_)\n",
        "\n",
        "# ---- Evaluate tuned model on test set ----\n",
        "hypertuned_rf_preds = rf_model.predict(X_test)\n",
        "hypertuned_rf_proba = rf_model.predict_proba(X_test)[:, 1]\n",
        "\n",
        "print(\"\\nTest Set Metrics:\")\n",
        "print(\"Accuracy:\", accuracy_score(y_test, hypertuned_rf_preds))\n",
        "print(\"ROC AUC:\", roc_auc_score(y_test, hypertuned_rf_proba))\n",
        "print(\"Precision:\", precision_score(y_test, hypertuned_rf_preds))\n",
        "print(\"Recall:\", recall_score(y_test, hypertuned_rf_preds))\n",
        "print(\"F1-Score:\", f1_score(y_test, hypertuned_rf_preds))\n",
        "print(\"\\nClassification Report:\\n\", classification_report(y_test, hypertuned_rf_preds))"
      ]
    },
    {
      "cell_type": "code",
      "execution_count": 85,
      "metadata": {},
      "outputs": [
        {
          "data": {
            "text/plain": [
              "<Figure size 1000x600 with 0 Axes>"
            ]
          },
          "metadata": {},
          "output_type": "display_data"
        },
        {
          "data": {
            "image/png": "[encoded data removed]",
            "text/plain": [
              "<Figure size 1000x600 with 1 Axes>"
            ]
          },
          "metadata": {},
          "output_type": "display_data"
        }
      ],
      "source": [
        "\n",
        "\n",
        "# --- Baseline Model Metrics ---\n",
        "rf_preds = rf_model.predict(X_test)\n",
        "rf_proba = rf_model.predict_proba(X_test)[:, 1]\n",
        "\n",
        "baseline_metrics = {\n",
        "    \"Accuracy\": accuracy_score(y_test, rf_preds),\n",
        "    \"Precision\": precision_score(y_test, rf_preds),\n",
        "    \"Recall\": recall_score(y_test, rf_preds),\n",
        "    \"F1-Score\": f1_score(y_test, rf_preds),\n",
        "    \"ROC AUC\": roc_auc_score(y_test, rf_proba)\n",
        "}\n",
        "\n",
        "# --- Hypertuned Model Metrics ---\n",
        "hypertuned_rf_preds = hypertuned_rf_model.predict(X_test)\n",
        "hypertuned_rf_proba = hypertuned_rf_model.predict_proba(X_test)[:, 1]\n",
        "\n",
        "hypertuned_metrics = {\n",
        "    \"Accuracy\": accuracy_score(y_test, hypertuned_rf_preds),\n",
        "    \"Precision\": precision_score(y_test, hypertuned_rf_preds),\n",
        "    \"Recall\": recall_score(y_test, hypertuned_rf_preds),\n",
        "    \"F1-Score\": f1_score(y_test, hypertuned_rf_preds),\n",
        "    \"ROC AUC\": roc_auc_score(y_test, hypertuned_rf_proba)\n",
        "}\n",
        "\n",
        "# --- Combine into DataFrame for Plotting ---\n",
        "\n",
        "metrics_df = pd.DataFrame([baseline_metrics, hypertuned_metrics],\n",
        "                          index=[\"Baseline Model\", \"Hypertuned Model\"]).T\n",
        "\n",
        "# --- Plot Side-by-Side Comparison ---\n",
        "plt.figure(figsize=(10,6))\n",
        "metrics_df.plot(kind=\"bar\", figsize=(10,6), width=0.7)\n",
        "plt.title(\"Model Performance Comparison (Baseline vs Hypertuned)\", fontsize=14)\n",
        "plt.ylabel(\"Score\")\n",
        "plt.xticks(rotation=0)\n",
        "plt.ylim(0, 1.1)\n",
        "plt.legend(title=\"Model\")\n",
        "plt.grid(axis=\"y\", linestyle=\"--\", alpha=0.7)\n",
        "plt.show()\n"
      ]
    },
    {
      "cell_type": "code",
      "execution_count": 87,
      "metadata": {},
      "outputs": [
        {
          "data": {
            "text/plain": [
              "['logistic_regression_model.pkl']"
            ]
          },
          "execution_count": 87,
          "metadata": {},
          "output_type": "execute_result"
        }
      ],
      "source": [
        "# from the assessment, the baseline models performed better across all metrics and so will be retained\n",
        "import joblib\n",
        "\n",
        "# Save trained model\n",
        "joblib.dump(rf_model, \"logistic_regression_model.pkl\")"
      ]
    }
  ],
  "metadata": {
    "colab": {
      "provenance": []
    },
    "kernelspec": {
      "display_name": "Python 3",
      "name": "python3"
    },
    "language_info": {
      "codemirror_mode": {
        "name": "ipython",
        "version": 3
      },
      "file_extension": ".py",
      "mimetype": "text/x-python",
      "name": "python",
      "nbconvert_exporter": "python",
      "pygments_lexer": "ipython3",
      "version": "3.12.1"
    }
  },
  "nbformat": 4,
  "nbformat_minor": 0
}
